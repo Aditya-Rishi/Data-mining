{
 "cells": [
  {
   "cell_type": "code",
   "execution_count": 28,
   "id": "89967430",
   "metadata": {},
   "outputs": [],
   "source": [
    "import numpy as np\n",
    "import pandas as pd"
   ]
  },
  {
   "cell_type": "code",
   "execution_count": 29,
   "id": "ceb842ad",
   "metadata": {},
   "outputs": [],
   "source": [
    "from sklearn.metrics import accuracy_score, precision_score, recall_score, confusion_matrix"
   ]
  },
  {
   "cell_type": "code",
   "execution_count": 30,
   "id": "c191a890",
   "metadata": {},
   "outputs": [],
   "source": [
    "import seaborn as sns\n",
    "import matplotlib.pyplot as plt\n",
    "%matplotlib inline"
   ]
  },
  {
   "cell_type": "code",
   "execution_count": 31,
   "id": "478b812c",
   "metadata": {},
   "outputs": [],
   "source": [
    "df = pd.read_csv(\"heart.csv\")"
   ]
  },
  {
   "cell_type": "code",
   "execution_count": 32,
   "id": "f24c9061",
   "metadata": {},
   "outputs": [],
   "source": [
    "from sklearn.model_selection import train_test_split"
   ]
  },
  {
   "cell_type": "code",
   "execution_count": 33,
   "id": "6e9001f8",
   "metadata": {},
   "outputs": [],
   "source": [
    "X=df.loc[:,'age':'thal']\n",
    "Y=df['target']"
   ]
  },
  {
   "cell_type": "code",
   "execution_count": 34,
   "id": "1b700e21",
   "metadata": {},
   "outputs": [],
   "source": [
    "x_train,x_test,y_train,y_test=train_test_split(X,Y,test_size=0.2,random_state=0,stratify=Y)"
   ]
  },
  {
   "cell_type": "code",
   "execution_count": 35,
   "id": "e297518c",
   "metadata": {},
   "outputs": [],
   "source": [
    "from sklearn import tree\n",
    "from sklearn.tree import DecisionTreeClassifier\n",
    "from sklearn.ensemble import RandomForestClassifier\n",
    "from sklearn.metrics import accuracy_score\n",
    "from ipywidgets import interactive,IntSlider,FloatSlider,interact\n",
    "import ipywidgets"
   ]
  },
  {
   "cell_type": "code",
   "execution_count": 36,
   "id": "b7d828d9",
   "metadata": {},
   "outputs": [],
   "source": [
    "from IPython.display import SVG,display,Image\n",
    "from sklearn.tree import export_graphviz\n",
    "from graphviz import Source\n",
    "from subprocess import call\n",
    "import matplotlib.image as mpimg"
   ]
  },
  {
   "cell_type": "code",
   "execution_count": 37,
   "id": "df916d28",
   "metadata": {},
   "outputs": [
    {
     "data": {
      "application/vnd.jupyter.widget-view+json": {
       "model_id": "72eb8794cd864274a3a878f7dcbac585",
       "version_major": 2,
       "version_minor": 0
      },
      "text/plain": [
       "interactive(children=(Dropdown(description='crit', options=('gini', 'entropy'), value='gini'), Dropdown(descri…"
      ]
     },
     "metadata": {},
     "output_type": "display_data"
    }
   ],
   "source": [
    "\n",
    "@interact\n",
    "def plot_tree(crit=['gini','entropy'],\n",
    "             split=['best','random'],\n",
    "             depth=IntSlider(min=1,max=30,value=2,continuous_update=False),\n",
    "             min_split=IntSlider(min=2,max=5,value=2,continuous_update=False),\n",
    "             min_leaf=IntSlider(min=1,max=5,value=1,count_update=False)):\n",
    "    estimator=DecisionTreeClassifier(random_state=0,criterion=crit,splitter=split,max_depth=depth,min_samples_split=min_split,\n",
    "                                    min_samples_leaf=min_leaf)\n",
    "    estimator.fit(x_train,y_train)\n",
    "    a=accuracy_score(y_train,estimator.predict(x_train))\n",
    "    b=accuracy_score(y_test,estimator.predict(x_test))\n",
    "    print('Decisin Tree Training Accuracy: {:.3f}'.format(a))\n",
    "    print('Decisin Tree Test Accuracy: {:.3f}'.format(b))\n",
    "    \n",
    "    # Implementing the Confusion Matrix\n",
    "    c=confusion_matrix(y_train,estimator.predict(x_train))\n",
    "    plt.figure(figsize=(5,5))\n",
    "    # Plotting the Confusion Matrix\n",
    "    sns.heatmap(c, xticklabels=[0,1], yticklabels= [0,1], annot=True, fmt=\"d\");\n",
    "    plt.title(\"Confusion matrix\")\n",
    "    plt.ylabel('True class')\n",
    "    plt.xlabel('Predicted class')\n",
    "    plt.show()\n",
    "    \n",
    "    \n",
    "    # Drawing the tree using Graphviz\n",
    "    graph=Source(tree.export_graphviz(estimator,\n",
    "                                     out_file=None,\n",
    "                                     feature_names=x_train.columns,\n",
    "                                     class_names=['0','1'],\n",
    "                                      filled=True))\n",
    "    display(Image(data=graph.pipe(format = 'png')))\n",
    "    \n",
    "    return estimator"
   ]
  },
  {
   "cell_type": "code",
   "execution_count": null,
   "id": "7aba7aae",
   "metadata": {},
   "outputs": [],
   "source": []
  },
  {
   "cell_type": "code",
   "execution_count": null,
   "id": "7dd33b29",
   "metadata": {},
   "outputs": [],
   "source": []
  },
  {
   "cell_type": "code",
   "execution_count": null,
   "id": "45f456f7",
   "metadata": {},
   "outputs": [],
   "source": []
  },
  {
   "cell_type": "code",
   "execution_count": null,
   "id": "8424cac8",
   "metadata": {},
   "outputs": [],
   "source": []
  },
  {
   "cell_type": "code",
   "execution_count": null,
   "id": "cb494311",
   "metadata": {},
   "outputs": [],
   "source": []
  },
  {
   "cell_type": "code",
   "execution_count": null,
   "id": "30226d40",
   "metadata": {},
   "outputs": [],
   "source": []
  },
  {
   "cell_type": "code",
   "execution_count": null,
   "id": "347a282b",
   "metadata": {},
   "outputs": [],
   "source": []
  },
  {
   "cell_type": "code",
   "execution_count": null,
   "id": "4cce7d5f",
   "metadata": {},
   "outputs": [],
   "source": []
  },
  {
   "cell_type": "code",
   "execution_count": null,
   "id": "14021608",
   "metadata": {},
   "outputs": [],
   "source": []
  },
  {
   "cell_type": "code",
   "execution_count": null,
   "id": "ead53367",
   "metadata": {},
   "outputs": [],
   "source": []
  }
 ],
 "metadata": {
  "kernelspec": {
   "display_name": "Python 3",
   "language": "python",
   "name": "python3"
  },
  "language_info": {
   "codemirror_mode": {
    "name": "ipython",
    "version": 3
   },
   "file_extension": ".py",
   "mimetype": "text/x-python",
   "name": "python",
   "nbconvert_exporter": "python",
   "pygments_lexer": "ipython3",
   "version": "3.8.8"
  }
 },
 "nbformat": 4,
 "nbformat_minor": 5
}
