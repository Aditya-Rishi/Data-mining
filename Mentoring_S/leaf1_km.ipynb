{
 "cells": [
  {
   "cell_type": "code",
   "execution_count": 1,
   "id": "721bdc32",
   "metadata": {},
   "outputs": [],
   "source": [
    "import pandas as pd\n",
    "from sklearn.cluster import KMeans \n",
    "import matplotlib.pyplot as plt"
   ]
  },
  {
   "cell_type": "code",
   "execution_count": 2,
   "id": "3d5b5a73",
   "metadata": {},
   "outputs": [],
   "source": [
    "leaf = pd.read_csv(\"leaf_data_uci_updated.csv\")"
   ]
  },
  {
   "cell_type": "code",
   "execution_count": 3,
   "id": "2368a8e1",
   "metadata": {},
   "outputs": [
    {
     "data": {
      "text/html": [
       "<div>\n",
       "<style scoped>\n",
       "    .dataframe tbody tr th:only-of-type {\n",
       "        vertical-align: middle;\n",
       "    }\n",
       "\n",
       "    .dataframe tbody tr th {\n",
       "        vertical-align: top;\n",
       "    }\n",
       "\n",
       "    .dataframe thead th {\n",
       "        text-align: right;\n",
       "    }\n",
       "</style>\n",
       "<table border=\"1\" class=\"dataframe\">\n",
       "  <thead>\n",
       "    <tr style=\"text-align: right;\">\n",
       "      <th></th>\n",
       "      <th>Eccentricity</th>\n",
       "      <th>Aspect Ratio</th>\n",
       "      <th>Elongation</th>\n",
       "      <th>Solidity</th>\n",
       "      <th>Stochastic Convexity</th>\n",
       "      <th>Isoperimetric Factor</th>\n",
       "      <th>Maximal Indentation Depth</th>\n",
       "      <th>Lobedness</th>\n",
       "      <th>Average Intensity</th>\n",
       "      <th>Average Contrast</th>\n",
       "      <th>Smoothness</th>\n",
       "      <th>Third moment</th>\n",
       "      <th>Uniformity</th>\n",
       "      <th>Entropy</th>\n",
       "    </tr>\n",
       "  </thead>\n",
       "  <tbody>\n",
       "    <tr>\n",
       "      <th>0</th>\n",
       "      <td>0.72694</td>\n",
       "      <td>1.4742</td>\n",
       "      <td>0.32396</td>\n",
       "      <td>0.98535</td>\n",
       "      <td>1.00000</td>\n",
       "      <td>0.83592</td>\n",
       "      <td>0.004657</td>\n",
       "      <td>0.003947</td>\n",
       "      <td>0.047790</td>\n",
       "      <td>0.127950</td>\n",
       "      <td>0.016108</td>\n",
       "      <td>0.005232</td>\n",
       "      <td>0.000275</td>\n",
       "      <td>1.17560</td>\n",
       "    </tr>\n",
       "    <tr>\n",
       "      <th>1</th>\n",
       "      <td>0.74173</td>\n",
       "      <td>1.5257</td>\n",
       "      <td>0.36116</td>\n",
       "      <td>0.98152</td>\n",
       "      <td>0.99825</td>\n",
       "      <td>0.79867</td>\n",
       "      <td>0.005242</td>\n",
       "      <td>0.005002</td>\n",
       "      <td>0.024160</td>\n",
       "      <td>0.090476</td>\n",
       "      <td>0.008119</td>\n",
       "      <td>0.002708</td>\n",
       "      <td>0.000075</td>\n",
       "      <td>0.69659</td>\n",
       "    </tr>\n",
       "    <tr>\n",
       "      <th>2</th>\n",
       "      <td>0.76722</td>\n",
       "      <td>1.5725</td>\n",
       "      <td>0.38998</td>\n",
       "      <td>0.97755</td>\n",
       "      <td>1.00000</td>\n",
       "      <td>0.80812</td>\n",
       "      <td>0.007457</td>\n",
       "      <td>0.010121</td>\n",
       "      <td>0.011897</td>\n",
       "      <td>0.057445</td>\n",
       "      <td>0.003289</td>\n",
       "      <td>0.000921</td>\n",
       "      <td>0.000038</td>\n",
       "      <td>0.44348</td>\n",
       "    </tr>\n",
       "    <tr>\n",
       "      <th>3</th>\n",
       "      <td>0.73797</td>\n",
       "      <td>1.4597</td>\n",
       "      <td>0.35376</td>\n",
       "      <td>0.97566</td>\n",
       "      <td>1.00000</td>\n",
       "      <td>0.81697</td>\n",
       "      <td>0.006877</td>\n",
       "      <td>0.008607</td>\n",
       "      <td>0.015950</td>\n",
       "      <td>0.065491</td>\n",
       "      <td>0.004271</td>\n",
       "      <td>0.001154</td>\n",
       "      <td>0.000066</td>\n",
       "      <td>0.58785</td>\n",
       "    </tr>\n",
       "    <tr>\n",
       "      <th>4</th>\n",
       "      <td>0.82301</td>\n",
       "      <td>1.7707</td>\n",
       "      <td>0.44462</td>\n",
       "      <td>0.97698</td>\n",
       "      <td>1.00000</td>\n",
       "      <td>0.75493</td>\n",
       "      <td>0.007428</td>\n",
       "      <td>0.010042</td>\n",
       "      <td>0.007938</td>\n",
       "      <td>0.045339</td>\n",
       "      <td>0.002051</td>\n",
       "      <td>0.000560</td>\n",
       "      <td>0.000023</td>\n",
       "      <td>0.34214</td>\n",
       "    </tr>\n",
       "  </tbody>\n",
       "</table>\n",
       "</div>"
      ],
      "text/plain": [
       "   Eccentricity  Aspect Ratio  Elongation  Solidity  Stochastic Convexity  \\\n",
       "0       0.72694        1.4742     0.32396   0.98535               1.00000   \n",
       "1       0.74173        1.5257     0.36116   0.98152               0.99825   \n",
       "2       0.76722        1.5725     0.38998   0.97755               1.00000   \n",
       "3       0.73797        1.4597     0.35376   0.97566               1.00000   \n",
       "4       0.82301        1.7707     0.44462   0.97698               1.00000   \n",
       "\n",
       "   Isoperimetric Factor  Maximal Indentation Depth  Lobedness  \\\n",
       "0               0.83592                   0.004657   0.003947   \n",
       "1               0.79867                   0.005242   0.005002   \n",
       "2               0.80812                   0.007457   0.010121   \n",
       "3               0.81697                   0.006877   0.008607   \n",
       "4               0.75493                   0.007428   0.010042   \n",
       "\n",
       "   Average Intensity   Average Contrast  Smoothness   Third moment  \\\n",
       "0           0.047790           0.127950    0.016108       0.005232   \n",
       "1           0.024160           0.090476    0.008119       0.002708   \n",
       "2           0.011897           0.057445    0.003289       0.000921   \n",
       "3           0.015950           0.065491    0.004271       0.001154   \n",
       "4           0.007938           0.045339    0.002051       0.000560   \n",
       "\n",
       "   Uniformity  Entropy  \n",
       "0    0.000275  1.17560  \n",
       "1    0.000075  0.69659  \n",
       "2    0.000038  0.44348  \n",
       "3    0.000066  0.58785  \n",
       "4    0.000023  0.34214  "
      ]
     },
     "execution_count": 3,
     "metadata": {},
     "output_type": "execute_result"
    }
   ],
   "source": [
    "leaf.head()"
   ]
  },
  {
   "cell_type": "code",
   "execution_count": 4,
   "id": "4c8484ab",
   "metadata": {},
   "outputs": [
    {
     "data": {
      "text/plain": [
       "(340, 14)"
      ]
     },
     "execution_count": 4,
     "metadata": {},
     "output_type": "execute_result"
    }
   ],
   "source": [
    "leaf.shape"
   ]
  },
  {
   "cell_type": "code",
   "execution_count": 5,
   "id": "c43ff34f",
   "metadata": {},
   "outputs": [
    {
     "name": "stdout",
     "output_type": "stream",
     "text": [
      "<class 'pandas.core.frame.DataFrame'>\n",
      "RangeIndex: 340 entries, 0 to 339\n",
      "Data columns (total 14 columns):\n",
      " #   Column                     Non-Null Count  Dtype  \n",
      "---  ------                     --------------  -----  \n",
      " 0   Eccentricity               340 non-null    float64\n",
      " 1   Aspect Ratio               340 non-null    float64\n",
      " 2   Elongation                 340 non-null    float64\n",
      " 3   Solidity                   340 non-null    float64\n",
      " 4   Stochastic Convexity       340 non-null    float64\n",
      " 5   Isoperimetric Factor       340 non-null    float64\n",
      " 6   Maximal Indentation Depth  340 non-null    float64\n",
      " 7   Lobedness                  340 non-null    float64\n",
      " 8   Average Intensity          340 non-null    float64\n",
      " 9    Average Contrast          340 non-null    float64\n",
      " 10  Smoothness                 340 non-null    float64\n",
      " 11   Third moment              340 non-null    float64\n",
      " 12  Uniformity                 340 non-null    float64\n",
      " 13  Entropy                    340 non-null    float64\n",
      "dtypes: float64(14)\n",
      "memory usage: 37.3 KB\n"
     ]
    }
   ],
   "source": [
    "leaf.info()"
   ]
  },
  {
   "cell_type": "code",
   "execution_count": 6,
   "id": "64979137",
   "metadata": {},
   "outputs": [
    {
     "data": {
      "text/html": [
       "<div>\n",
       "<style scoped>\n",
       "    .dataframe tbody tr th:only-of-type {\n",
       "        vertical-align: middle;\n",
       "    }\n",
       "\n",
       "    .dataframe tbody tr th {\n",
       "        vertical-align: top;\n",
       "    }\n",
       "\n",
       "    .dataframe thead th {\n",
       "        text-align: right;\n",
       "    }\n",
       "</style>\n",
       "<table border=\"1\" class=\"dataframe\">\n",
       "  <thead>\n",
       "    <tr style=\"text-align: right;\">\n",
       "      <th></th>\n",
       "      <th>count</th>\n",
       "      <th>mean</th>\n",
       "      <th>std</th>\n",
       "      <th>min</th>\n",
       "      <th>25%</th>\n",
       "      <th>50%</th>\n",
       "      <th>75%</th>\n",
       "      <th>max</th>\n",
       "    </tr>\n",
       "  </thead>\n",
       "  <tbody>\n",
       "    <tr>\n",
       "      <th>Eccentricity</th>\n",
       "      <td>340.0</td>\n",
       "      <td>0.719854</td>\n",
       "      <td>0.208311</td>\n",
       "      <td>0.117080</td>\n",
       "      <td>0.550623</td>\n",
       "      <td>0.763450</td>\n",
       "      <td>0.895097</td>\n",
       "      <td>0.998710</td>\n",
       "    </tr>\n",
       "    <tr>\n",
       "      <th>Aspect Ratio</th>\n",
       "      <td>340.0</td>\n",
       "      <td>1.902051</td>\n",
       "      <td>0.888783</td>\n",
       "      <td>1.006600</td>\n",
       "      <td>1.211300</td>\n",
       "      <td>1.570750</td>\n",
       "      <td>2.343100</td>\n",
       "      <td>4.040800</td>\n",
       "    </tr>\n",
       "    <tr>\n",
       "      <th>Elongation</th>\n",
       "      <td>340.0</td>\n",
       "      <td>0.513760</td>\n",
       "      <td>0.195583</td>\n",
       "      <td>0.107610</td>\n",
       "      <td>0.349623</td>\n",
       "      <td>0.501855</td>\n",
       "      <td>0.633373</td>\n",
       "      <td>0.948340</td>\n",
       "    </tr>\n",
       "    <tr>\n",
       "      <th>Solidity</th>\n",
       "      <td>340.0</td>\n",
       "      <td>0.919101</td>\n",
       "      <td>0.075247</td>\n",
       "      <td>0.761323</td>\n",
       "      <td>0.890667</td>\n",
       "      <td>0.948130</td>\n",
       "      <td>0.976897</td>\n",
       "      <td>0.993880</td>\n",
       "    </tr>\n",
       "    <tr>\n",
       "      <th>Stochastic Convexity</th>\n",
       "      <td>340.0</td>\n",
       "      <td>0.975867</td>\n",
       "      <td>0.032506</td>\n",
       "      <td>0.915575</td>\n",
       "      <td>0.966230</td>\n",
       "      <td>0.992980</td>\n",
       "      <td>1.000000</td>\n",
       "      <td>1.000000</td>\n",
       "    </tr>\n",
       "    <tr>\n",
       "      <th>Isoperimetric Factor</th>\n",
       "      <td>340.0</td>\n",
       "      <td>0.531234</td>\n",
       "      <td>0.217532</td>\n",
       "      <td>0.078376</td>\n",
       "      <td>0.346818</td>\n",
       "      <td>0.579160</td>\n",
       "      <td>0.700713</td>\n",
       "      <td>0.858160</td>\n",
       "    </tr>\n",
       "    <tr>\n",
       "      <th>Maximal Indentation Depth</th>\n",
       "      <td>340.0</td>\n",
       "      <td>0.034647</td>\n",
       "      <td>0.031502</td>\n",
       "      <td>0.002837</td>\n",
       "      <td>0.009521</td>\n",
       "      <td>0.023860</td>\n",
       "      <td>0.047834</td>\n",
       "      <td>0.105303</td>\n",
       "    </tr>\n",
       "    <tr>\n",
       "      <th>Lobedness</th>\n",
       "      <td>340.0</td>\n",
       "      <td>0.284499</td>\n",
       "      <td>0.365318</td>\n",
       "      <td>0.001464</td>\n",
       "      <td>0.016500</td>\n",
       "      <td>0.103615</td>\n",
       "      <td>0.416432</td>\n",
       "      <td>1.016331</td>\n",
       "    </tr>\n",
       "    <tr>\n",
       "      <th>Average Intensity</th>\n",
       "      <td>340.0</td>\n",
       "      <td>0.051209</td>\n",
       "      <td>0.035518</td>\n",
       "      <td>0.005022</td>\n",
       "      <td>0.022843</td>\n",
       "      <td>0.042087</td>\n",
       "      <td>0.073046</td>\n",
       "      <td>0.148349</td>\n",
       "    </tr>\n",
       "    <tr>\n",
       "      <th>Average Contrast</th>\n",
       "      <td>340.0</td>\n",
       "      <td>0.124535</td>\n",
       "      <td>0.051860</td>\n",
       "      <td>0.033415</td>\n",
       "      <td>0.083362</td>\n",
       "      <td>0.119375</td>\n",
       "      <td>0.163795</td>\n",
       "      <td>0.280810</td>\n",
       "    </tr>\n",
       "    <tr>\n",
       "      <th>Smoothness</th>\n",
       "      <td>340.0</td>\n",
       "      <td>0.017491</td>\n",
       "      <td>0.013189</td>\n",
       "      <td>0.001115</td>\n",
       "      <td>0.006901</td>\n",
       "      <td>0.014050</td>\n",
       "      <td>0.026127</td>\n",
       "      <td>0.054967</td>\n",
       "    </tr>\n",
       "    <tr>\n",
       "      <th>Third moment</th>\n",
       "      <td>340.0</td>\n",
       "      <td>0.005678</td>\n",
       "      <td>0.004495</td>\n",
       "      <td>0.000229</td>\n",
       "      <td>0.002080</td>\n",
       "      <td>0.004447</td>\n",
       "      <td>0.008307</td>\n",
       "      <td>0.017648</td>\n",
       "    </tr>\n",
       "    <tr>\n",
       "      <th>Uniformity</th>\n",
       "      <td>340.0</td>\n",
       "      <td>0.000356</td>\n",
       "      <td>0.000336</td>\n",
       "      <td>0.000007</td>\n",
       "      <td>0.000102</td>\n",
       "      <td>0.000239</td>\n",
       "      <td>0.000516</td>\n",
       "      <td>0.001137</td>\n",
       "    </tr>\n",
       "    <tr>\n",
       "      <th>Entropy</th>\n",
       "      <td>340.0</td>\n",
       "      <td>1.162630</td>\n",
       "      <td>0.584854</td>\n",
       "      <td>0.169400</td>\n",
       "      <td>0.718900</td>\n",
       "      <td>1.077450</td>\n",
       "      <td>1.554575</td>\n",
       "      <td>2.708500</td>\n",
       "    </tr>\n",
       "  </tbody>\n",
       "</table>\n",
       "</div>"
      ],
      "text/plain": [
       "                           count      mean       std       min       25%  \\\n",
       "Eccentricity               340.0  0.719854  0.208311  0.117080  0.550623   \n",
       "Aspect Ratio               340.0  1.902051  0.888783  1.006600  1.211300   \n",
       "Elongation                 340.0  0.513760  0.195583  0.107610  0.349623   \n",
       "Solidity                   340.0  0.919101  0.075247  0.761323  0.890667   \n",
       "Stochastic Convexity       340.0  0.975867  0.032506  0.915575  0.966230   \n",
       "Isoperimetric Factor       340.0  0.531234  0.217532  0.078376  0.346818   \n",
       "Maximal Indentation Depth  340.0  0.034647  0.031502  0.002837  0.009521   \n",
       "Lobedness                  340.0  0.284499  0.365318  0.001464  0.016500   \n",
       "Average Intensity          340.0  0.051209  0.035518  0.005022  0.022843   \n",
       " Average Contrast          340.0  0.124535  0.051860  0.033415  0.083362   \n",
       "Smoothness                 340.0  0.017491  0.013189  0.001115  0.006901   \n",
       " Third moment              340.0  0.005678  0.004495  0.000229  0.002080   \n",
       "Uniformity                 340.0  0.000356  0.000336  0.000007  0.000102   \n",
       "Entropy                    340.0  1.162630  0.584854  0.169400  0.718900   \n",
       "\n",
       "                                50%       75%       max  \n",
       "Eccentricity               0.763450  0.895097  0.998710  \n",
       "Aspect Ratio               1.570750  2.343100  4.040800  \n",
       "Elongation                 0.501855  0.633373  0.948340  \n",
       "Solidity                   0.948130  0.976897  0.993880  \n",
       "Stochastic Convexity       0.992980  1.000000  1.000000  \n",
       "Isoperimetric Factor       0.579160  0.700713  0.858160  \n",
       "Maximal Indentation Depth  0.023860  0.047834  0.105303  \n",
       "Lobedness                  0.103615  0.416432  1.016331  \n",
       "Average Intensity          0.042087  0.073046  0.148349  \n",
       " Average Contrast          0.119375  0.163795  0.280810  \n",
       "Smoothness                 0.014050  0.026127  0.054967  \n",
       " Third moment              0.004447  0.008307  0.017648  \n",
       "Uniformity                 0.000239  0.000516  0.001137  \n",
       "Entropy                    1.077450  1.554575  2.708500  "
      ]
     },
     "execution_count": 6,
     "metadata": {},
     "output_type": "execute_result"
    }
   ],
   "source": [
    "leaf.describe().T"
   ]
  },
  {
   "cell_type": "code",
   "execution_count": 8,
   "id": "e5e1a99c",
   "metadata": {},
   "outputs": [
    {
     "data": {
      "text/plain": [
       "0"
      ]
     },
     "execution_count": 8,
     "metadata": {},
     "output_type": "execute_result"
    }
   ],
   "source": [
    "leaf.duplicated().sum()"
   ]
  },
  {
   "cell_type": "code",
   "execution_count": 9,
   "id": "42902a93",
   "metadata": {},
   "outputs": [
    {
     "data": {
      "text/html": [
       "<div>\n",
       "<style scoped>\n",
       "    .dataframe tbody tr th:only-of-type {\n",
       "        vertical-align: middle;\n",
       "    }\n",
       "\n",
       "    .dataframe tbody tr th {\n",
       "        vertical-align: top;\n",
       "    }\n",
       "\n",
       "    .dataframe thead th {\n",
       "        text-align: right;\n",
       "    }\n",
       "</style>\n",
       "<table border=\"1\" class=\"dataframe\">\n",
       "  <thead>\n",
       "    <tr style=\"text-align: right;\">\n",
       "      <th></th>\n",
       "      <th>Eccentricity</th>\n",
       "      <th>Aspect Ratio</th>\n",
       "      <th>Elongation</th>\n",
       "      <th>Solidity</th>\n",
       "      <th>Stochastic Convexity</th>\n",
       "      <th>Isoperimetric Factor</th>\n",
       "      <th>Maximal Indentation Depth</th>\n",
       "      <th>Lobedness</th>\n",
       "      <th>Average Intensity</th>\n",
       "      <th>Average Contrast</th>\n",
       "      <th>Smoothness</th>\n",
       "      <th>Third moment</th>\n",
       "      <th>Uniformity</th>\n",
       "      <th>Entropy</th>\n",
       "    </tr>\n",
       "  </thead>\n",
       "  <tbody>\n",
       "    <tr>\n",
       "      <th>0</th>\n",
       "      <td>0.034066</td>\n",
       "      <td>-0.482099</td>\n",
       "      <td>-0.971865</td>\n",
       "      <td>0.881718</td>\n",
       "      <td>0.743486</td>\n",
       "      <td>1.402718</td>\n",
       "      <td>-0.953401</td>\n",
       "      <td>-0.769100</td>\n",
       "      <td>-0.096417</td>\n",
       "      <td>0.065951</td>\n",
       "      <td>-0.105019</td>\n",
       "      <td>-0.099339</td>\n",
       "      <td>-0.241076</td>\n",
       "      <td>0.022209</td>\n",
       "    </tr>\n",
       "    <tr>\n",
       "      <th>1</th>\n",
       "      <td>0.105170</td>\n",
       "      <td>-0.424069</td>\n",
       "      <td>-0.781384</td>\n",
       "      <td>0.830744</td>\n",
       "      <td>0.689571</td>\n",
       "      <td>1.231226</td>\n",
       "      <td>-0.934782</td>\n",
       "      <td>-0.766208</td>\n",
       "      <td>-0.762703</td>\n",
       "      <td>-0.657718</td>\n",
       "      <td>-0.711617</td>\n",
       "      <td>-0.661808</td>\n",
       "      <td>-0.836779</td>\n",
       "      <td>-0.798023</td>\n",
       "    </tr>\n",
       "    <tr>\n",
       "      <th>2</th>\n",
       "      <td>0.227715</td>\n",
       "      <td>-0.371335</td>\n",
       "      <td>-0.633812</td>\n",
       "      <td>0.777907</td>\n",
       "      <td>0.743486</td>\n",
       "      <td>1.274732</td>\n",
       "      <td>-0.864365</td>\n",
       "      <td>-0.752173</td>\n",
       "      <td>-1.108478</td>\n",
       "      <td>-1.295588</td>\n",
       "      <td>-1.078407</td>\n",
       "      <td>-1.060062</td>\n",
       "      <td>-0.946702</td>\n",
       "      <td>-1.231436</td>\n",
       "    </tr>\n",
       "    <tr>\n",
       "      <th>3</th>\n",
       "      <td>0.087093</td>\n",
       "      <td>-0.498437</td>\n",
       "      <td>-0.819275</td>\n",
       "      <td>0.752752</td>\n",
       "      <td>0.743486</td>\n",
       "      <td>1.315476</td>\n",
       "      <td>-0.882820</td>\n",
       "      <td>-0.756324</td>\n",
       "      <td>-0.994197</td>\n",
       "      <td>-1.140210</td>\n",
       "      <td>-1.003871</td>\n",
       "      <td>-1.007984</td>\n",
       "      <td>-0.862100</td>\n",
       "      <td>-0.984224</td>\n",
       "    </tr>\n",
       "    <tr>\n",
       "      <th>4</th>\n",
       "      <td>0.495931</td>\n",
       "      <td>-0.148005</td>\n",
       "      <td>-0.354030</td>\n",
       "      <td>0.770320</td>\n",
       "      <td>0.743486</td>\n",
       "      <td>1.029856</td>\n",
       "      <td>-0.865297</td>\n",
       "      <td>-0.752390</td>\n",
       "      <td>-1.220111</td>\n",
       "      <td>-1.529370</td>\n",
       "      <td>-1.172391</td>\n",
       "      <td>-1.140460</td>\n",
       "      <td>-0.989599</td>\n",
       "      <td>-1.404965</td>\n",
       "    </tr>\n",
       "    <tr>\n",
       "      <th>5</th>\n",
       "      <td>0.048633</td>\n",
       "      <td>-0.465197</td>\n",
       "      <td>-0.875190</td>\n",
       "      <td>0.910999</td>\n",
       "      <td>0.743486</td>\n",
       "      <td>1.443692</td>\n",
       "      <td>-0.944230</td>\n",
       "      <td>-0.767718</td>\n",
       "      <td>-1.148235</td>\n",
       "      <td>-1.274674</td>\n",
       "      <td>-1.068938</td>\n",
       "      <td>-1.014579</td>\n",
       "      <td>-0.985727</td>\n",
       "      <td>-1.407465</td>\n",
       "    </tr>\n",
       "    <tr>\n",
       "      <th>6</th>\n",
       "      <td>0.484489</td>\n",
       "      <td>-0.168062</td>\n",
       "      <td>-0.354235</td>\n",
       "      <td>0.805723</td>\n",
       "      <td>0.635348</td>\n",
       "      <td>1.088646</td>\n",
       "      <td>-0.912986</td>\n",
       "      <td>-0.762387</td>\n",
       "      <td>-0.925820</td>\n",
       "      <td>-0.848687</td>\n",
       "      <td>-0.838213</td>\n",
       "      <td>-0.759114</td>\n",
       "      <td>-0.935978</td>\n",
       "      <td>-1.067804</td>\n",
       "    </tr>\n",
       "    <tr>\n",
       "      <th>7</th>\n",
       "      <td>0.288291</td>\n",
       "      <td>-0.316122</td>\n",
       "      <td>-0.622342</td>\n",
       "      <td>0.878657</td>\n",
       "      <td>0.689571</td>\n",
       "      <td>1.274917</td>\n",
       "      <td>-0.939347</td>\n",
       "      <td>-0.766948</td>\n",
       "      <td>-0.742542</td>\n",
       "      <td>-0.672974</td>\n",
       "      <td>-0.722255</td>\n",
       "      <td>-0.715642</td>\n",
       "      <td>-0.622413</td>\n",
       "      <td>-0.843982</td>\n",
       "    </tr>\n",
       "    <tr>\n",
       "      <th>8</th>\n",
       "      <td>0.533815</td>\n",
       "      <td>-0.092567</td>\n",
       "      <td>-0.290998</td>\n",
       "      <td>0.842456</td>\n",
       "      <td>0.743486</td>\n",
       "      <td>1.104115</td>\n",
       "      <td>-0.910519</td>\n",
       "      <td>-0.761924</td>\n",
       "      <td>-1.239657</td>\n",
       "      <td>-1.620577</td>\n",
       "      <td>-1.203106</td>\n",
       "      <td>-1.178728</td>\n",
       "      <td>-0.961597</td>\n",
       "      <td>-1.413835</td>\n",
       "    </tr>\n",
       "    <tr>\n",
       "      <th>9</th>\n",
       "      <td>0.896403</td>\n",
       "      <td>0.550494</td>\n",
       "      <td>0.356382</td>\n",
       "      <td>0.768324</td>\n",
       "      <td>0.689571</td>\n",
       "      <td>0.612106</td>\n",
       "      <td>-0.834336</td>\n",
       "      <td>-0.744698</td>\n",
       "      <td>-1.246286</td>\n",
       "      <td>-1.587149</td>\n",
       "      <td>-1.192232</td>\n",
       "      <td>-1.162959</td>\n",
       "      <td>-0.975300</td>\n",
       "      <td>-1.509966</td>\n",
       "    </tr>\n",
       "  </tbody>\n",
       "</table>\n",
       "</div>"
      ],
      "text/plain": [
       "   Eccentricity  Aspect Ratio  Elongation  Solidity  Stochastic Convexity  \\\n",
       "0      0.034066     -0.482099   -0.971865  0.881718              0.743486   \n",
       "1      0.105170     -0.424069   -0.781384  0.830744              0.689571   \n",
       "2      0.227715     -0.371335   -0.633812  0.777907              0.743486   \n",
       "3      0.087093     -0.498437   -0.819275  0.752752              0.743486   \n",
       "4      0.495931     -0.148005   -0.354030  0.770320              0.743486   \n",
       "5      0.048633     -0.465197   -0.875190  0.910999              0.743486   \n",
       "6      0.484489     -0.168062   -0.354235  0.805723              0.635348   \n",
       "7      0.288291     -0.316122   -0.622342  0.878657              0.689571   \n",
       "8      0.533815     -0.092567   -0.290998  0.842456              0.743486   \n",
       "9      0.896403      0.550494    0.356382  0.768324              0.689571   \n",
       "\n",
       "   Isoperimetric Factor  Maximal Indentation Depth  Lobedness  \\\n",
       "0              1.402718                  -0.953401  -0.769100   \n",
       "1              1.231226                  -0.934782  -0.766208   \n",
       "2              1.274732                  -0.864365  -0.752173   \n",
       "3              1.315476                  -0.882820  -0.756324   \n",
       "4              1.029856                  -0.865297  -0.752390   \n",
       "5              1.443692                  -0.944230  -0.767718   \n",
       "6              1.088646                  -0.912986  -0.762387   \n",
       "7              1.274917                  -0.939347  -0.766948   \n",
       "8              1.104115                  -0.910519  -0.761924   \n",
       "9              0.612106                  -0.834336  -0.744698   \n",
       "\n",
       "   Average Intensity   Average Contrast  Smoothness   Third moment  \\\n",
       "0          -0.096417           0.065951   -0.105019      -0.099339   \n",
       "1          -0.762703          -0.657718   -0.711617      -0.661808   \n",
       "2          -1.108478          -1.295588   -1.078407      -1.060062   \n",
       "3          -0.994197          -1.140210   -1.003871      -1.007984   \n",
       "4          -1.220111          -1.529370   -1.172391      -1.140460   \n",
       "5          -1.148235          -1.274674   -1.068938      -1.014579   \n",
       "6          -0.925820          -0.848687   -0.838213      -0.759114   \n",
       "7          -0.742542          -0.672974   -0.722255      -0.715642   \n",
       "8          -1.239657          -1.620577   -1.203106      -1.178728   \n",
       "9          -1.246286          -1.587149   -1.192232      -1.162959   \n",
       "\n",
       "   Uniformity   Entropy  \n",
       "0   -0.241076  0.022209  \n",
       "1   -0.836779 -0.798023  \n",
       "2   -0.946702 -1.231436  \n",
       "3   -0.862100 -0.984224  \n",
       "4   -0.989599 -1.404965  \n",
       "5   -0.985727 -1.407465  \n",
       "6   -0.935978 -1.067804  \n",
       "7   -0.622413 -0.843982  \n",
       "8   -0.961597 -1.413835  \n",
       "9   -0.975300 -1.509966  "
      ]
     },
     "execution_count": 9,
     "metadata": {},
     "output_type": "execute_result"
    }
   ],
   "source": [
    "#Scaling\n",
    "from scipy.stats import zscore\n",
    "leafs=leaf.apply(zscore)\n",
    "leafs.head(10)"
   ]
  },
  {
   "cell_type": "code",
   "execution_count": 10,
   "id": "0933eca6",
   "metadata": {},
   "outputs": [],
   "source": [
    "# Creating Clusters using KMeans\n",
    "# Forming 2 Clusters with K=2"
   ]
  },
  {
   "cell_type": "code",
   "execution_count": 11,
   "id": "10fc7ba6",
   "metadata": {},
   "outputs": [],
   "source": [
    "# Create K Means cluster and store the result in the object k_means\n",
    "\n",
    "k_means = KMeans(n_clusters = 2)"
   ]
  },
  {
   "cell_type": "code",
   "execution_count": 12,
   "id": "9f8ef499",
   "metadata": {},
   "outputs": [
    {
     "data": {
      "text/plain": [
       "KMeans(n_clusters=2)"
      ]
     },
     "execution_count": 12,
     "metadata": {},
     "output_type": "execute_result"
    }
   ],
   "source": [
    "# Fit K means on the scaled_df\n",
    "k_means.fit(leafs)"
   ]
  },
  {
   "cell_type": "code",
   "execution_count": 13,
   "id": "b81989c8",
   "metadata": {},
   "outputs": [],
   "source": [
    "# Cluster Output for all the observations"
   ]
  },
  {
   "cell_type": "code",
   "execution_count": 14,
   "id": "02557daf",
   "metadata": {},
   "outputs": [
    {
     "data": {
      "text/plain": [
       "array([1, 1, 1, 1, 1, 1, 1, 1, 1, 1, 1, 1, 1, 1, 1, 1, 1, 1, 1, 1, 1, 1,\n",
       "       1, 1, 1, 1, 1, 1, 1, 1, 1, 1, 1, 1, 1, 1, 1, 1, 1, 1, 0, 0, 0, 0,\n",
       "       0, 0, 0, 0, 0, 0, 0, 0, 0, 0, 0, 0, 0, 0, 0, 0, 1, 0, 1, 1, 1, 1,\n",
       "       1, 1, 1, 1, 1, 1, 1, 1, 1, 1, 1, 1, 0, 1, 1, 1, 1, 1, 1, 1, 1, 1,\n",
       "       1, 1, 1, 1, 1, 1, 1, 1, 1, 1, 1, 1, 1, 1, 1, 1, 1, 1, 1, 1, 0, 0,\n",
       "       0, 0, 0, 0, 0, 0, 0, 0, 0, 0, 0, 0, 0, 0, 1, 1, 1, 1, 1, 1, 1, 1,\n",
       "       1, 1, 1, 1, 1, 1, 1, 1, 1, 1, 1, 1, 1, 1, 1, 1, 1, 1, 1, 1, 1, 1,\n",
       "       1, 1, 1, 1, 1, 1, 1, 0, 0, 0, 0, 0, 0, 0, 0, 0, 0, 1, 1, 1, 1, 0,\n",
       "       0, 1, 1, 1, 1, 0, 1, 1, 1, 0, 0, 0, 0, 1, 1, 0, 0, 0, 1, 1, 1, 1,\n",
       "       1, 1, 1, 1, 1, 1, 1, 1, 1, 1, 1, 1, 1, 1, 1, 1, 1, 1, 1, 1, 1, 1,\n",
       "       1, 1, 1, 1, 1, 1, 1, 1, 1, 1, 1, 1, 1, 1, 1, 1, 1, 1, 1, 1, 1, 1,\n",
       "       1, 1, 1, 1, 1, 1, 1, 1, 1, 1, 1, 1, 1, 1, 1, 1, 1, 1, 1, 1, 1, 1,\n",
       "       1, 1, 1, 1, 1, 1, 1, 1, 1, 1, 1, 0, 0, 0, 1, 0, 0, 0, 0, 0, 0, 0,\n",
       "       1, 1, 1, 1, 1, 1, 1, 1, 1, 1, 1, 1, 1, 1, 1, 1, 1, 1, 1, 1, 1, 1,\n",
       "       0, 0, 0, 0, 0, 1, 1, 1, 0, 0, 0, 1, 1, 1, 1, 1, 1, 1, 1, 1, 1, 1,\n",
       "       0, 0, 0, 0, 0, 0, 0, 0, 0, 0])"
      ]
     },
     "execution_count": 14,
     "metadata": {},
     "output_type": "execute_result"
    }
   ],
   "source": [
    "# Get the labels\n",
    "k_means.labels_"
   ]
  },
  {
   "cell_type": "code",
   "execution_count": 15,
   "id": "0525aaa8",
   "metadata": {},
   "outputs": [],
   "source": [
    "# Within Cluster Sum of Squares"
   ]
  },
  {
   "cell_type": "code",
   "execution_count": 16,
   "id": "2f73f157",
   "metadata": {},
   "outputs": [
    {
     "data": {
      "text/plain": [
       "3412.257118426089"
      ]
     },
     "execution_count": 16,
     "metadata": {},
     "output_type": "execute_result"
    }
   ],
   "source": [
    "k_means.inertia_"
   ]
  },
  {
   "cell_type": "code",
   "execution_count": 17,
   "id": "678ddc04",
   "metadata": {},
   "outputs": [],
   "source": [
    "# Forming clusters with K = 1,3,4,5,6 and comparing the WSS"
   ]
  },
  {
   "cell_type": "code",
   "execution_count": 18,
   "id": "c2a35398",
   "metadata": {},
   "outputs": [
    {
     "data": {
      "text/plain": [
       "4759.999999999998"
      ]
     },
     "execution_count": 18,
     "metadata": {},
     "output_type": "execute_result"
    }
   ],
   "source": [
    "k_means = KMeans(n_clusters = 1,random_state=1)\n",
    "k_means.fit(leafs)\n",
    "k_means.inertia_"
   ]
  },
  {
   "cell_type": "code",
   "execution_count": 19,
   "id": "d0b1a963",
   "metadata": {},
   "outputs": [
    {
     "data": {
      "text/plain": [
       "2389.284762244628"
      ]
     },
     "execution_count": 19,
     "metadata": {},
     "output_type": "execute_result"
    }
   ],
   "source": [
    "k_means = KMeans(n_clusters = 3,random_state=1)\n",
    "k_means.fit(leafs)\n",
    "k_means.inertia_"
   ]
  },
  {
   "cell_type": "code",
   "execution_count": 20,
   "id": "80afa803",
   "metadata": {},
   "outputs": [
    {
     "data": {
      "text/plain": [
       "1895.5346689676155"
      ]
     },
     "execution_count": 20,
     "metadata": {},
     "output_type": "execute_result"
    }
   ],
   "source": [
    "k_means = KMeans(n_clusters = 4,random_state=1)\n",
    "k_means.fit(leafs)\n",
    "k_means.inertia_"
   ]
  },
  {
   "cell_type": "code",
   "execution_count": 21,
   "id": "aecd268b",
   "metadata": {},
   "outputs": [
    {
     "data": {
      "text/plain": [
       "1672.4884939305718"
      ]
     },
     "execution_count": 21,
     "metadata": {},
     "output_type": "execute_result"
    }
   ],
   "source": [
    "k_means = KMeans(n_clusters = 5,random_state=1)\n",
    "k_means.fit(leafs)\n",
    "k_means.inertia_"
   ]
  },
  {
   "cell_type": "code",
   "execution_count": 22,
   "id": "d55d83e7",
   "metadata": {},
   "outputs": [
    {
     "data": {
      "text/plain": [
       "1444.588242104043"
      ]
     },
     "execution_count": 22,
     "metadata": {},
     "output_type": "execute_result"
    }
   ],
   "source": [
    "k_means = KMeans(n_clusters = 6,random_state=1)\n",
    "k_means.fit(leafs)\n",
    "k_means.inertia_"
   ]
  },
  {
   "cell_type": "code",
   "execution_count": 24,
   "id": "fd171363",
   "metadata": {},
   "outputs": [],
   "source": [
    "# WSS reduces as K keeps increasing\n",
    "# Calculating WSS for other values of K - Elbow Method"
   ]
  },
  {
   "cell_type": "code",
   "execution_count": 25,
   "id": "03a702d3",
   "metadata": {},
   "outputs": [],
   "source": [
    "wss =[]"
   ]
  },
  {
   "cell_type": "code",
   "execution_count": 26,
   "id": "ea3ba18d",
   "metadata": {},
   "outputs": [],
   "source": [
    "for i in range(1,11):\n",
    "    KM = KMeans(n_clusters=i,random_state=1)\n",
    "    KM.fit(leafs)\n",
    "    wss.append(KM.inertia_)"
   ]
  },
  {
   "cell_type": "code",
   "execution_count": 27,
   "id": "babea23c",
   "metadata": {},
   "outputs": [
    {
     "data": {
      "text/plain": [
       "[4759.999999999998,\n",
       " 3412.257118426089,\n",
       " 2389.284762244628,\n",
       " 1895.5346689676155,\n",
       " 1672.4884939305718,\n",
       " 1444.588242104043,\n",
       " 1257.5854552886253,\n",
       " 1135.0669760285068,\n",
       " 1033.4497551369154,\n",
       " 955.7857112708228]"
      ]
     },
     "execution_count": 27,
     "metadata": {},
     "output_type": "execute_result"
    }
   ],
   "source": [
    "wss"
   ]
  },
  {
   "cell_type": "code",
   "execution_count": 28,
   "id": "d79b562b",
   "metadata": {},
   "outputs": [
    {
     "data": {
      "text/plain": [
       "[<matplotlib.lines.Line2D at 0x220f6d33c40>]"
      ]
     },
     "execution_count": 28,
     "metadata": {},
     "output_type": "execute_result"
    },
    {
     "data": {
      "image/png": "[encoded data removed]",
      "text/plain": [
       "<Figure size 432x288 with 1 Axes>"
      ]
     },
     "metadata": {
      "needs_background": "light"
     },
     "output_type": "display_data"
    }
   ],
   "source": [
    "plt.plot(range(1,11), wss)"
   ]
  },
  {
   "cell_type": "code",
   "execution_count": 29,
   "id": "a645ec97",
   "metadata": {},
   "outputs": [],
   "source": [
    "# KMeans with K=3"
   ]
  },
  {
   "cell_type": "code",
   "execution_count": 30,
   "id": "d9188129",
   "metadata": {},
   "outputs": [
    {
     "data": {
      "text/plain": [
       "array([1, 1, 1, 1, 1, 1, 1, 1, 1, 1, 1, 1, 1, 1, 1, 1, 1, 1, 1, 1, 1, 0,\n",
       "       0, 1, 0, 1, 0, 0, 0, 1, 0, 1, 0, 1, 1, 1, 1, 1, 1, 1, 2, 2, 2, 2,\n",
       "       2, 2, 2, 2, 2, 2, 0, 2, 2, 2, 2, 2, 2, 2, 2, 2, 1, 2, 1, 1, 1, 1,\n",
       "       1, 1, 1, 1, 1, 1, 1, 1, 1, 1, 1, 1, 1, 1, 1, 0, 0, 1, 0, 0, 1, 0,\n",
       "       1, 0, 0, 1, 1, 1, 0, 0, 0, 0, 0, 0, 0, 0, 0, 0, 0, 0, 0, 0, 2, 2,\n",
       "       2, 2, 2, 2, 2, 2, 2, 2, 2, 2, 2, 2, 2, 2, 0, 0, 0, 0, 1, 1, 1, 0,\n",
       "       0, 1, 0, 1, 1, 1, 1, 1, 0, 0, 1, 0, 1, 1, 0, 0, 1, 0, 0, 0, 0, 1,\n",
       "       1, 1, 1, 0, 0, 0, 1, 2, 2, 2, 2, 2, 2, 2, 2, 2, 2, 1, 1, 0, 0, 2,\n",
       "       2, 1, 1, 1, 1, 2, 1, 1, 1, 2, 2, 2, 2, 1, 1, 1, 2, 2, 0, 1, 1, 1,\n",
       "       1, 0, 1, 1, 1, 0, 1, 1, 1, 0, 0, 0, 0, 0, 0, 0, 0, 0, 1, 1, 0, 1,\n",
       "       1, 1, 0, 1, 1, 1, 0, 1, 1, 1, 1, 1, 1, 1, 1, 1, 1, 1, 1, 1, 1, 0,\n",
       "       0, 0, 0, 0, 0, 0, 0, 0, 0, 1, 1, 1, 1, 1, 1, 1, 1, 1, 1, 1, 1, 0,\n",
       "       0, 0, 0, 0, 0, 0, 1, 0, 1, 0, 1, 2, 2, 2, 1, 1, 2, 2, 2, 2, 2, 2,\n",
       "       1, 1, 1, 1, 1, 1, 1, 1, 1, 1, 1, 0, 0, 0, 1, 0, 0, 0, 1, 0, 0, 0,\n",
       "       1, 1, 1, 2, 1, 1, 1, 1, 1, 1, 2, 0, 0, 0, 0, 0, 0, 0, 0, 0, 0, 1,\n",
       "       2, 2, 2, 2, 2, 2, 2, 2, 2, 2])"
      ]
     },
     "execution_count": 30,
     "metadata": {},
     "output_type": "execute_result"
    }
   ],
   "source": [
    "k_means = KMeans(n_clusters = 3)\n",
    "k_means.fit(leafs)\n",
    "labels = k_means.labels_\n",
    "labels"
   ]
  },
  {
   "cell_type": "code",
   "execution_count": 31,
   "id": "a1149a13",
   "metadata": {},
   "outputs": [],
   "source": [
    "# Cluster evaluation for 3 clusters: the silhouette score"
   ]
  },
  {
   "cell_type": "code",
   "execution_count": 32,
   "id": "d0fc1a09",
   "metadata": {},
   "outputs": [],
   "source": [
    "from sklearn.metrics import silhouette_samples, silhouette_score"
   ]
  },
  {
   "cell_type": "code",
   "execution_count": 33,
   "id": "7d8d062d",
   "metadata": {},
   "outputs": [
    {
     "data": {
      "text/plain": [
       "0.3176316570376883"
      ]
     },
     "execution_count": 33,
     "metadata": {},
     "output_type": "execute_result"
    }
   ],
   "source": [
    "# Calculating silhouette_score\n",
    "silhouette_score(leafs,labels)"
   ]
  },
  {
   "cell_type": "code",
   "execution_count": null,
   "id": "763b11ec",
   "metadata": {},
   "outputs": [],
   "source": [
    "# KMeans with K=4"
   ]
  },
  {
   "cell_type": "code",
   "execution_count": 34,
   "id": "a8c391cc",
   "metadata": {},
   "outputs": [],
   "source": [
    "k_means = KMeans(n_clusters = 4,random_state=1)\n",
    "k_means.fit(leafs)\n",
    "labels = k_means.labels_"
   ]
  },
  {
   "cell_type": "code",
   "execution_count": 35,
   "id": "36a37fcf",
   "metadata": {},
   "outputs": [],
   "source": [
    "# Cluster evaluation for 4 clusters"
   ]
  },
  {
   "cell_type": "code",
   "execution_count": 36,
   "id": "9ab6d857",
   "metadata": {},
   "outputs": [
    {
     "data": {
      "text/plain": [
       "0.3442812126829124"
      ]
     },
     "execution_count": 36,
     "metadata": {},
     "output_type": "execute_result"
    }
   ],
   "source": [
    "silhouette_score(leafs,labels)"
   ]
  },
  {
   "cell_type": "code",
   "execution_count": 37,
   "id": "96fec275",
   "metadata": {},
   "outputs": [],
   "source": [
    "# silhouette score is better for 4 clusters than for 3 clusters. So, final clusters will be 4\n",
    "\n",
    "# Appending Clusters to the original dataset"
   ]
  },
  {
   "cell_type": "code",
   "execution_count": 38,
   "id": "0cbb3b2a",
   "metadata": {
    "scrolled": true
   },
   "outputs": [
    {
     "data": {
      "text/html": [
       "<div>\n",
       "<style scoped>\n",
       "    .dataframe tbody tr th:only-of-type {\n",
       "        vertical-align: middle;\n",
       "    }\n",
       "\n",
       "    .dataframe tbody tr th {\n",
       "        vertical-align: top;\n",
       "    }\n",
       "\n",
       "    .dataframe thead th {\n",
       "        text-align: right;\n",
       "    }\n",
       "</style>\n",
       "<table border=\"1\" class=\"dataframe\">\n",
       "  <thead>\n",
       "    <tr style=\"text-align: right;\">\n",
       "      <th></th>\n",
       "      <th>Eccentricity</th>\n",
       "      <th>Aspect Ratio</th>\n",
       "      <th>Elongation</th>\n",
       "      <th>Solidity</th>\n",
       "      <th>Stochastic Convexity</th>\n",
       "      <th>Isoperimetric Factor</th>\n",
       "      <th>Maximal Indentation Depth</th>\n",
       "      <th>Lobedness</th>\n",
       "      <th>Average Intensity</th>\n",
       "      <th>Average Contrast</th>\n",
       "      <th>Smoothness</th>\n",
       "      <th>Third moment</th>\n",
       "      <th>Uniformity</th>\n",
       "      <th>Entropy</th>\n",
       "      <th>Clus_kmeans4</th>\n",
       "    </tr>\n",
       "  </thead>\n",
       "  <tbody>\n",
       "    <tr>\n",
       "      <th>0</th>\n",
       "      <td>0.72694</td>\n",
       "      <td>1.4742</td>\n",
       "      <td>0.32396</td>\n",
       "      <td>0.98535</td>\n",
       "      <td>1.00000</td>\n",
       "      <td>0.83592</td>\n",
       "      <td>0.004657</td>\n",
       "      <td>0.003947</td>\n",
       "      <td>0.047790</td>\n",
       "      <td>0.127950</td>\n",
       "      <td>0.016108</td>\n",
       "      <td>0.005232</td>\n",
       "      <td>0.000275</td>\n",
       "      <td>1.17560</td>\n",
       "      <td>3</td>\n",
       "    </tr>\n",
       "    <tr>\n",
       "      <th>1</th>\n",
       "      <td>0.74173</td>\n",
       "      <td>1.5257</td>\n",
       "      <td>0.36116</td>\n",
       "      <td>0.98152</td>\n",
       "      <td>0.99825</td>\n",
       "      <td>0.79867</td>\n",
       "      <td>0.005242</td>\n",
       "      <td>0.005002</td>\n",
       "      <td>0.024160</td>\n",
       "      <td>0.090476</td>\n",
       "      <td>0.008119</td>\n",
       "      <td>0.002708</td>\n",
       "      <td>0.000075</td>\n",
       "      <td>0.69659</td>\n",
       "      <td>3</td>\n",
       "    </tr>\n",
       "    <tr>\n",
       "      <th>2</th>\n",
       "      <td>0.76722</td>\n",
       "      <td>1.5725</td>\n",
       "      <td>0.38998</td>\n",
       "      <td>0.97755</td>\n",
       "      <td>1.00000</td>\n",
       "      <td>0.80812</td>\n",
       "      <td>0.007457</td>\n",
       "      <td>0.010121</td>\n",
       "      <td>0.011897</td>\n",
       "      <td>0.057445</td>\n",
       "      <td>0.003289</td>\n",
       "      <td>0.000921</td>\n",
       "      <td>0.000038</td>\n",
       "      <td>0.44348</td>\n",
       "      <td>3</td>\n",
       "    </tr>\n",
       "    <tr>\n",
       "      <th>3</th>\n",
       "      <td>0.73797</td>\n",
       "      <td>1.4597</td>\n",
       "      <td>0.35376</td>\n",
       "      <td>0.97566</td>\n",
       "      <td>1.00000</td>\n",
       "      <td>0.81697</td>\n",
       "      <td>0.006877</td>\n",
       "      <td>0.008607</td>\n",
       "      <td>0.015950</td>\n",
       "      <td>0.065491</td>\n",
       "      <td>0.004271</td>\n",
       "      <td>0.001154</td>\n",
       "      <td>0.000066</td>\n",
       "      <td>0.58785</td>\n",
       "      <td>3</td>\n",
       "    </tr>\n",
       "    <tr>\n",
       "      <th>4</th>\n",
       "      <td>0.82301</td>\n",
       "      <td>1.7707</td>\n",
       "      <td>0.44462</td>\n",
       "      <td>0.97698</td>\n",
       "      <td>1.00000</td>\n",
       "      <td>0.75493</td>\n",
       "      <td>0.007428</td>\n",
       "      <td>0.010042</td>\n",
       "      <td>0.007938</td>\n",
       "      <td>0.045339</td>\n",
       "      <td>0.002051</td>\n",
       "      <td>0.000560</td>\n",
       "      <td>0.000023</td>\n",
       "      <td>0.34214</td>\n",
       "      <td>3</td>\n",
       "    </tr>\n",
       "  </tbody>\n",
       "</table>\n",
       "</div>"
      ],
      "text/plain": [
       "   Eccentricity  Aspect Ratio  Elongation  Solidity  Stochastic Convexity  \\\n",
       "0       0.72694        1.4742     0.32396   0.98535               1.00000   \n",
       "1       0.74173        1.5257     0.36116   0.98152               0.99825   \n",
       "2       0.76722        1.5725     0.38998   0.97755               1.00000   \n",
       "3       0.73797        1.4597     0.35376   0.97566               1.00000   \n",
       "4       0.82301        1.7707     0.44462   0.97698               1.00000   \n",
       "\n",
       "   Isoperimetric Factor  Maximal Indentation Depth  Lobedness  \\\n",
       "0               0.83592                   0.004657   0.003947   \n",
       "1               0.79867                   0.005242   0.005002   \n",
       "2               0.80812                   0.007457   0.010121   \n",
       "3               0.81697                   0.006877   0.008607   \n",
       "4               0.75493                   0.007428   0.010042   \n",
       "\n",
       "   Average Intensity   Average Contrast  Smoothness   Third moment  \\\n",
       "0           0.047790           0.127950    0.016108       0.005232   \n",
       "1           0.024160           0.090476    0.008119       0.002708   \n",
       "2           0.011897           0.057445    0.003289       0.000921   \n",
       "3           0.015950           0.065491    0.004271       0.001154   \n",
       "4           0.007938           0.045339    0.002051       0.000560   \n",
       "\n",
       "   Uniformity  Entropy  Clus_kmeans4  \n",
       "0    0.000275  1.17560             3  \n",
       "1    0.000075  0.69659             3  \n",
       "2    0.000038  0.44348             3  \n",
       "3    0.000066  0.58785             3  \n",
       "4    0.000023  0.34214             3  "
      ]
     },
     "execution_count": 38,
     "metadata": {},
     "output_type": "execute_result"
    }
   ],
   "source": [
    "leaf[\"Clus_kmeans4\"] = labels\n",
    "leaf.head()"
   ]
  },
  {
   "cell_type": "code",
   "execution_count": 39,
   "id": "8305cdff",
   "metadata": {},
   "outputs": [],
   "source": [
    "# Cluster Profiling"
   ]
  },
  {
   "cell_type": "code",
   "execution_count": 40,
   "id": "2f5b77bd",
   "metadata": {},
   "outputs": [
    {
     "data": {
      "text/plain": [
       "0     42\n",
       "1    104\n",
       "2     62\n",
       "3    132\n",
       "Name: Clus_kmeans4, dtype: int64"
      ]
     },
     "execution_count": 40,
     "metadata": {},
     "output_type": "execute_result"
    }
   ],
   "source": [
    "leaf.Clus_kmeans4.value_counts().sort_index()"
   ]
  },
  {
   "cell_type": "code",
   "execution_count": 42,
   "id": "5d4723f8",
   "metadata": {},
   "outputs": [
    {
     "data": {
      "text/html": [
       "<div>\n",
       "<style scoped>\n",
       "    .dataframe tbody tr th:only-of-type {\n",
       "        vertical-align: middle;\n",
       "    }\n",
       "\n",
       "    .dataframe tbody tr th {\n",
       "        vertical-align: top;\n",
       "    }\n",
       "\n",
       "    .dataframe thead th {\n",
       "        text-align: right;\n",
       "    }\n",
       "</style>\n",
       "<table border=\"1\" class=\"dataframe\">\n",
       "  <thead>\n",
       "    <tr style=\"text-align: right;\">\n",
       "      <th></th>\n",
       "      <th>Eccentricity</th>\n",
       "      <th>Aspect Ratio</th>\n",
       "      <th>Elongation</th>\n",
       "      <th>Solidity</th>\n",
       "      <th>Stochastic Convexity</th>\n",
       "      <th>Isoperimetric Factor</th>\n",
       "      <th>Maximal Indentation Depth</th>\n",
       "      <th>Lobedness</th>\n",
       "      <th>Average Intensity</th>\n",
       "      <th>Average Contrast</th>\n",
       "      <th>Smoothness</th>\n",
       "      <th>Third moment</th>\n",
       "      <th>Uniformity</th>\n",
       "      <th>Entropy</th>\n",
       "      <th>freq</th>\n",
       "    </tr>\n",
       "    <tr>\n",
       "      <th>Clus_kmeans4</th>\n",
       "      <th></th>\n",
       "      <th></th>\n",
       "      <th></th>\n",
       "      <th></th>\n",
       "      <th></th>\n",
       "      <th></th>\n",
       "      <th></th>\n",
       "      <th></th>\n",
       "      <th></th>\n",
       "      <th></th>\n",
       "      <th></th>\n",
       "      <th></th>\n",
       "      <th></th>\n",
       "      <th></th>\n",
       "      <th></th>\n",
       "    </tr>\n",
       "  </thead>\n",
       "  <tbody>\n",
       "    <tr>\n",
       "      <th>0</th>\n",
       "      <td>0.980501</td>\n",
       "      <td>3.811907</td>\n",
       "      <td>0.847141</td>\n",
       "      <td>0.902887</td>\n",
       "      <td>0.967299</td>\n",
       "      <td>0.249694</td>\n",
       "      <td>0.044316</td>\n",
       "      <td>0.365468</td>\n",
       "      <td>0.024524</td>\n",
       "      <td>0.085889</td>\n",
       "      <td>0.007985</td>\n",
       "      <td>0.002616</td>\n",
       "      <td>0.000121</td>\n",
       "      <td>0.700134</td>\n",
       "      <td>42</td>\n",
       "    </tr>\n",
       "    <tr>\n",
       "      <th>1</th>\n",
       "      <td>0.712605</td>\n",
       "      <td>1.789759</td>\n",
       "      <td>0.448295</td>\n",
       "      <td>0.946234</td>\n",
       "      <td>0.990552</td>\n",
       "      <td>0.601794</td>\n",
       "      <td>0.025582</td>\n",
       "      <td>0.169076</td>\n",
       "      <td>0.090665</td>\n",
       "      <td>0.181893</td>\n",
       "      <td>0.032273</td>\n",
       "      <td>0.010386</td>\n",
       "      <td>0.000681</td>\n",
       "      <td>1.727866</td>\n",
       "      <td>104</td>\n",
       "    </tr>\n",
       "    <tr>\n",
       "      <th>2</th>\n",
       "      <td>0.550938</td>\n",
       "      <td>1.288179</td>\n",
       "      <td>0.628680</td>\n",
       "      <td>0.790829</td>\n",
       "      <td>0.917064</td>\n",
       "      <td>0.255971</td>\n",
       "      <td>0.085634</td>\n",
       "      <td>0.901656</td>\n",
       "      <td>0.048421</td>\n",
       "      <td>0.120954</td>\n",
       "      <td>0.016298</td>\n",
       "      <td>0.005436</td>\n",
       "      <td>0.000286</td>\n",
       "      <td>1.184722</td>\n",
       "      <td>62</td>\n",
       "    </tr>\n",
       "    <tr>\n",
       "      <th>3</th>\n",
       "      <td>0.721973</td>\n",
       "      <td>1.671175</td>\n",
       "      <td>0.405286</td>\n",
       "      <td>0.963132</td>\n",
       "      <td>0.994644</td>\n",
       "      <td>0.694511</td>\n",
       "      <td>0.014763</td>\n",
       "      <td>0.059799</td>\n",
       "      <td>0.029924</td>\n",
       "      <td>0.093322</td>\n",
       "      <td>0.009430</td>\n",
       "      <td>0.003057</td>\n",
       "      <td>0.000207</td>\n",
       "      <td>0.854074</td>\n",
       "      <td>132</td>\n",
       "    </tr>\n",
       "  </tbody>\n",
       "</table>\n",
       "</div>"
      ],
      "text/plain": [
       "              Eccentricity  Aspect Ratio  Elongation  Solidity  \\\n",
       "Clus_kmeans4                                                     \n",
       "0                 0.980501      3.811907    0.847141  0.902887   \n",
       "1                 0.712605      1.789759    0.448295  0.946234   \n",
       "2                 0.550938      1.288179    0.628680  0.790829   \n",
       "3                 0.721973      1.671175    0.405286  0.963132   \n",
       "\n",
       "              Stochastic Convexity  Isoperimetric Factor  \\\n",
       "Clus_kmeans4                                               \n",
       "0                         0.967299              0.249694   \n",
       "1                         0.990552              0.601794   \n",
       "2                         0.917064              0.255971   \n",
       "3                         0.994644              0.694511   \n",
       "\n",
       "              Maximal Indentation Depth  Lobedness  Average Intensity  \\\n",
       "Clus_kmeans4                                                            \n",
       "0                              0.044316   0.365468           0.024524   \n",
       "1                              0.025582   0.169076           0.090665   \n",
       "2                              0.085634   0.901656           0.048421   \n",
       "3                              0.014763   0.059799           0.029924   \n",
       "\n",
       "               Average Contrast  Smoothness   Third moment  Uniformity  \\\n",
       "Clus_kmeans4                                                             \n",
       "0                      0.085889    0.007985       0.002616    0.000121   \n",
       "1                      0.181893    0.032273       0.010386    0.000681   \n",
       "2                      0.120954    0.016298       0.005436    0.000286   \n",
       "3                      0.093322    0.009430       0.003057    0.000207   \n",
       "\n",
       "               Entropy  freq  \n",
       "Clus_kmeans4                  \n",
       "0             0.700134    42  \n",
       "1             1.727866   104  \n",
       "2             1.184722    62  \n",
       "3             0.854074   132  "
      ]
     },
     "execution_count": 42,
     "metadata": {},
     "output_type": "execute_result"
    }
   ],
   "source": [
    "clust_profile=leaf\n",
    "clust_profile=clust_profile.groupby('Clus_kmeans4').mean()\n",
    "clust_profile['freq']=leaf.Clus_kmeans4.value_counts().sort_index()\n",
    "clust_profile"
   ]
  },
  {
   "cell_type": "code",
   "execution_count": null,
   "id": "61da0132",
   "metadata": {},
   "outputs": [],
   "source": [
    "# Cluster 0: Roughest leaf\n",
    "# Cluster 1: Smoothest leaf\n",
    "# Cluster 2: Medium smooth leaf\n",
    "# Cluster 3: Medium rough  leaf\n",
    "# Recommendations"
   ]
  },
  {
   "cell_type": "code",
   "execution_count": 43,
   "id": "c95c62e4",
   "metadata": {},
   "outputs": [],
   "source": [
    "leaf.to_csv('leaf_km1.csv')"
   ]
  },
  {
   "cell_type": "code",
   "execution_count": 51,
   "id": "8fd21f39",
   "metadata": {},
   "outputs": [
    {
     "data": {
      "application/javascript": [
       "\n",
       "        if (window._pyforest_update_imports_cell) { window._pyforest_update_imports_cell('import numpy as np'); }\n",
       "    "
      ],
      "text/plain": [
       "<IPython.core.display.Javascript object>"
      ]
     },
     "metadata": {},
     "output_type": "display_data"
    }
   ],
   "source": [
    "lt= np.random.seed(7)"
   ]
  },
  {
   "cell_type": "code",
   "execution_count": 55,
   "id": "eeb88344",
   "metadata": {},
   "outputs": [
    {
     "data": {
      "application/javascript": [
       "\n",
       "        if (window._pyforest_update_imports_cell) { window._pyforest_update_imports_cell('import numpy as np'); }\n",
       "    "
      ],
      "text/plain": [
       "<IPython.core.display.Javascript object>"
      ]
     },
     "metadata": {},
     "output_type": "display_data"
    },
    {
     "name": "stdout",
     "output_type": "stream",
     "text": [
      "None\n"
     ]
    }
   ],
   "source": [
    "print(np.random.seed(7))"
   ]
  },
  {
   "cell_type": "code",
   "execution_count": 56,
   "id": "0faecb2a",
   "metadata": {},
   "outputs": [
    {
     "data": {
      "application/javascript": [
       "\n",
       "        if (window._pyforest_update_imports_cell) { window._pyforest_update_imports_cell('import numpy as np'); }\n",
       "    "
      ],
      "text/plain": [
       "<IPython.core.display.Javascript object>"
      ]
     },
     "metadata": {},
     "output_type": "display_data"
    },
    {
     "data": {
      "application/javascript": [
       "\n",
       "        if (window._pyforest_update_imports_cell) { window._pyforest_update_imports_cell('import numpy as np'); }\n",
       "    "
      ],
      "text/plain": [
       "<IPython.core.display.Javascript object>"
      ]
     },
     "metadata": {},
     "output_type": "display_data"
    },
    {
     "name": "stdout",
     "output_type": "stream",
     "text": [
      "[[0.07630829 0.77991879]\n",
      " [0.43840923 0.72346518]\n",
      " [0.97798951 0.53849587]\n",
      " [0.50112046 0.07205113]\n",
      " [0.26843898 0.4998825 ]\n",
      " [0.67923    0.80373904]\n",
      " [0.38094113 0.06593635]\n",
      " [0.2881456  0.90959353]\n",
      " [0.21338535 0.45212396]\n",
      " [0.93120602 0.02489923]]\n"
     ]
    }
   ],
   "source": [
    "array=np.array(np.random.rand(20)).reshape(10,2)\n",
    "print(array)"
   ]
  },
  {
   "cell_type": "code",
   "execution_count": 58,
   "id": "caa4e73d",
   "metadata": {},
   "outputs": [
    {
     "data": {
      "text/plain": [
       "KMeans(n_clusters=10, random_state=1)"
      ]
     },
     "execution_count": 58,
     "metadata": {},
     "output_type": "execute_result"
    }
   ],
   "source": [
    "# for n_clusters=2\n",
    "from sklearn.cluster import KMeans\n",
    "kmeans=KMeans(random_state=0,n_clusters=2)\n",
    "KM.fit(array)"
   ]
  },
  {
   "cell_type": "code",
   "execution_count": 61,
   "id": "3fe09fc1",
   "metadata": {},
   "outputs": [
    {
     "data": {
      "text/plain": [
       "array([0, 0, 1, 1, 0, 0, 1, 0, 0, 1])"
      ]
     },
     "execution_count": 61,
     "metadata": {},
     "output_type": "execute_result"
    }
   ],
   "source": [
    "k_means = KMeans(n_clusters = 2)\n",
    "k_means.fit(array)\n",
    "labels = k_means.labels_\n",
    "labels"
   ]
  },
  {
   "cell_type": "code",
   "execution_count": 62,
   "id": "f1b7156b",
   "metadata": {},
   "outputs": [
    {
     "data": {
      "text/plain": [
       "0.8293456925100041"
      ]
     },
     "execution_count": 62,
     "metadata": {},
     "output_type": "execute_result"
    }
   ],
   "source": [
    "k_means = KMeans(n_clusters = 2,random_state=1)\n",
    "k_means.fit(array)\n",
    "k_means.inertia_"
   ]
  },
  {
   "cell_type": "code",
   "execution_count": 63,
   "id": "ef5e4271",
   "metadata": {},
   "outputs": [
    {
     "data": {
      "text/plain": [
       "0.4163799287991604"
      ]
     },
     "execution_count": 63,
     "metadata": {},
     "output_type": "execute_result"
    }
   ],
   "source": [
    "silhouette_score(array,labels)"
   ]
  }
 ],
 "metadata": {
  "kernelspec": {
   "display_name": "Python 3",
   "language": "python",
   "name": "python3"
  },
  "language_info": {
   "codemirror_mode": {
    "name": "ipython",
    "version": 3
   },
   "file_extension": ".py",
   "mimetype": "text/x-python",
   "name": "python",
   "nbconvert_exporter": "python",
   "pygments_lexer": "ipython3",
   "version": "3.8.8"
  }
 },
 "nbformat": 4,
 "nbformat_minor": 5
}
